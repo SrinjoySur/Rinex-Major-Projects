{
  "nbformat": 4,
  "nbformat_minor": 0,
  "metadata": {
    "colab": {
      "provenance": [],
      "authorship_tag": "ABX9TyNZtb1JRP8x7Ggden8gGJ8F",
      "include_colab_link": true
    },
    "kernelspec": {
      "name": "python3",
      "display_name": "Python 3"
    },
    "language_info": {
      "name": "python"
    }
  },
  "cells": [
    {
      "cell_type": "markdown",
      "metadata": {
        "id": "view-in-github",
        "colab_type": "text"
      },
      "source": [
        "<a href=\"https://colab.research.google.com/github/SrinjoySur/Rinex-Major-Projects/blob/main/Major_Proj_2.ipynb\" target=\"_parent\"><img src=\"https://colab.research.google.com/assets/colab-badge.svg\" alt=\"Open In Colab\"/></a>"
      ]
    },
    {
      "cell_type": "code",
      "execution_count": 3,
      "metadata": {
        "colab": {
          "base_uri": "https://localhost:8080/",
          "height": 423
        },
        "id": "iKXBgKLvZ8pG",
        "outputId": "18a76da9-f4ed-4288-ca80-2de0d6ce69bb"
      },
      "outputs": [
        {
          "output_type": "execute_result",
          "data": {
            "text/plain": [
              "      User ID  Gender  Age  EstimatedSalary  Purchased\n",
              "0    15624510    Male   19            19000          0\n",
              "1    15810944    Male   35            20000          0\n",
              "2    15668575  Female   26            43000          0\n",
              "3    15603246  Female   27            57000          0\n",
              "4    15804002    Male   19            76000          0\n",
              "..        ...     ...  ...              ...        ...\n",
              "395  15691863  Female   46            41000          1\n",
              "396  15706071    Male   51            23000          1\n",
              "397  15654296  Female   50            20000          1\n",
              "398  15755018    Male   36            33000          0\n",
              "399  15594041  Female   49            36000          1\n",
              "\n",
              "[400 rows x 5 columns]"
            ],
            "text/html": [
              "\n",
              "  <div id=\"df-30ce0c7a-4298-47d0-8af6-fca817bf0023\">\n",
              "    <div class=\"colab-df-container\">\n",
              "      <div>\n",
              "<style scoped>\n",
              "    .dataframe tbody tr th:only-of-type {\n",
              "        vertical-align: middle;\n",
              "    }\n",
              "\n",
              "    .dataframe tbody tr th {\n",
              "        vertical-align: top;\n",
              "    }\n",
              "\n",
              "    .dataframe thead th {\n",
              "        text-align: right;\n",
              "    }\n",
              "</style>\n",
              "<table border=\"1\" class=\"dataframe\">\n",
              "  <thead>\n",
              "    <tr style=\"text-align: right;\">\n",
              "      <th></th>\n",
              "      <th>User ID</th>\n",
              "      <th>Gender</th>\n",
              "      <th>Age</th>\n",
              "      <th>EstimatedSalary</th>\n",
              "      <th>Purchased</th>\n",
              "    </tr>\n",
              "  </thead>\n",
              "  <tbody>\n",
              "    <tr>\n",
              "      <th>0</th>\n",
              "      <td>15624510</td>\n",
              "      <td>Male</td>\n",
              "      <td>19</td>\n",
              "      <td>19000</td>\n",
              "      <td>0</td>\n",
              "    </tr>\n",
              "    <tr>\n",
              "      <th>1</th>\n",
              "      <td>15810944</td>\n",
              "      <td>Male</td>\n",
              "      <td>35</td>\n",
              "      <td>20000</td>\n",
              "      <td>0</td>\n",
              "    </tr>\n",
              "    <tr>\n",
              "      <th>2</th>\n",
              "      <td>15668575</td>\n",
              "      <td>Female</td>\n",
              "      <td>26</td>\n",
              "      <td>43000</td>\n",
              "      <td>0</td>\n",
              "    </tr>\n",
              "    <tr>\n",
              "      <th>3</th>\n",
              "      <td>15603246</td>\n",
              "      <td>Female</td>\n",
              "      <td>27</td>\n",
              "      <td>57000</td>\n",
              "      <td>0</td>\n",
              "    </tr>\n",
              "    <tr>\n",
              "      <th>4</th>\n",
              "      <td>15804002</td>\n",
              "      <td>Male</td>\n",
              "      <td>19</td>\n",
              "      <td>76000</td>\n",
              "      <td>0</td>\n",
              "    </tr>\n",
              "    <tr>\n",
              "      <th>...</th>\n",
              "      <td>...</td>\n",
              "      <td>...</td>\n",
              "      <td>...</td>\n",
              "      <td>...</td>\n",
              "      <td>...</td>\n",
              "    </tr>\n",
              "    <tr>\n",
              "      <th>395</th>\n",
              "      <td>15691863</td>\n",
              "      <td>Female</td>\n",
              "      <td>46</td>\n",
              "      <td>41000</td>\n",
              "      <td>1</td>\n",
              "    </tr>\n",
              "    <tr>\n",
              "      <th>396</th>\n",
              "      <td>15706071</td>\n",
              "      <td>Male</td>\n",
              "      <td>51</td>\n",
              "      <td>23000</td>\n",
              "      <td>1</td>\n",
              "    </tr>\n",
              "    <tr>\n",
              "      <th>397</th>\n",
              "      <td>15654296</td>\n",
              "      <td>Female</td>\n",
              "      <td>50</td>\n",
              "      <td>20000</td>\n",
              "      <td>1</td>\n",
              "    </tr>\n",
              "    <tr>\n",
              "      <th>398</th>\n",
              "      <td>15755018</td>\n",
              "      <td>Male</td>\n",
              "      <td>36</td>\n",
              "      <td>33000</td>\n",
              "      <td>0</td>\n",
              "    </tr>\n",
              "    <tr>\n",
              "      <th>399</th>\n",
              "      <td>15594041</td>\n",
              "      <td>Female</td>\n",
              "      <td>49</td>\n",
              "      <td>36000</td>\n",
              "      <td>1</td>\n",
              "    </tr>\n",
              "  </tbody>\n",
              "</table>\n",
              "<p>400 rows × 5 columns</p>\n",
              "</div>\n",
              "      <button class=\"colab-df-convert\" onclick=\"convertToInteractive('df-30ce0c7a-4298-47d0-8af6-fca817bf0023')\"\n",
              "              title=\"Convert this dataframe to an interactive table.\"\n",
              "              style=\"display:none;\">\n",
              "        \n",
              "  <svg xmlns=\"http://www.w3.org/2000/svg\" height=\"24px\"viewBox=\"0 0 24 24\"\n",
              "       width=\"24px\">\n",
              "    <path d=\"M0 0h24v24H0V0z\" fill=\"none\"/>\n",
              "    <path d=\"M18.56 5.44l.94 2.06.94-2.06 2.06-.94-2.06-.94-.94-2.06-.94 2.06-2.06.94zm-11 1L8.5 8.5l.94-2.06 2.06-.94-2.06-.94L8.5 2.5l-.94 2.06-2.06.94zm10 10l.94 2.06.94-2.06 2.06-.94-2.06-.94-.94-2.06-.94 2.06-2.06.94z\"/><path d=\"M17.41 7.96l-1.37-1.37c-.4-.4-.92-.59-1.43-.59-.52 0-1.04.2-1.43.59L10.3 9.45l-7.72 7.72c-.78.78-.78 2.05 0 2.83L4 21.41c.39.39.9.59 1.41.59.51 0 1.02-.2 1.41-.59l7.78-7.78 2.81-2.81c.8-.78.8-2.07 0-2.86zM5.41 20L4 18.59l7.72-7.72 1.47 1.35L5.41 20z\"/>\n",
              "  </svg>\n",
              "      </button>\n",
              "      \n",
              "  <style>\n",
              "    .colab-df-container {\n",
              "      display:flex;\n",
              "      flex-wrap:wrap;\n",
              "      gap: 12px;\n",
              "    }\n",
              "\n",
              "    .colab-df-convert {\n",
              "      background-color: #E8F0FE;\n",
              "      border: none;\n",
              "      border-radius: 50%;\n",
              "      cursor: pointer;\n",
              "      display: none;\n",
              "      fill: #1967D2;\n",
              "      height: 32px;\n",
              "      padding: 0 0 0 0;\n",
              "      width: 32px;\n",
              "    }\n",
              "\n",
              "    .colab-df-convert:hover {\n",
              "      background-color: #E2EBFA;\n",
              "      box-shadow: 0px 1px 2px rgba(60, 64, 67, 0.3), 0px 1px 3px 1px rgba(60, 64, 67, 0.15);\n",
              "      fill: #174EA6;\n",
              "    }\n",
              "\n",
              "    [theme=dark] .colab-df-convert {\n",
              "      background-color: #3B4455;\n",
              "      fill: #D2E3FC;\n",
              "    }\n",
              "\n",
              "    [theme=dark] .colab-df-convert:hover {\n",
              "      background-color: #434B5C;\n",
              "      box-shadow: 0px 1px 3px 1px rgba(0, 0, 0, 0.15);\n",
              "      filter: drop-shadow(0px 1px 2px rgba(0, 0, 0, 0.3));\n",
              "      fill: #FFFFFF;\n",
              "    }\n",
              "  </style>\n",
              "\n",
              "      <script>\n",
              "        const buttonEl =\n",
              "          document.querySelector('#df-30ce0c7a-4298-47d0-8af6-fca817bf0023 button.colab-df-convert');\n",
              "        buttonEl.style.display =\n",
              "          google.colab.kernel.accessAllowed ? 'block' : 'none';\n",
              "\n",
              "        async function convertToInteractive(key) {\n",
              "          const element = document.querySelector('#df-30ce0c7a-4298-47d0-8af6-fca817bf0023');\n",
              "          const dataTable =\n",
              "            await google.colab.kernel.invokeFunction('convertToInteractive',\n",
              "                                                     [key], {});\n",
              "          if (!dataTable) return;\n",
              "\n",
              "          const docLinkHtml = 'Like what you see? Visit the ' +\n",
              "            '<a target=\"_blank\" href=https://colab.research.google.com/notebooks/data_table.ipynb>data table notebook</a>'\n",
              "            + ' to learn more about interactive tables.';\n",
              "          element.innerHTML = '';\n",
              "          dataTable['output_type'] = 'display_data';\n",
              "          await google.colab.output.renderOutput(dataTable, element);\n",
              "          const docLink = document.createElement('div');\n",
              "          docLink.innerHTML = docLinkHtml;\n",
              "          element.appendChild(docLink);\n",
              "        }\n",
              "      </script>\n",
              "    </div>\n",
              "  </div>\n",
              "  "
            ]
          },
          "metadata": {},
          "execution_count": 3
        }
      ],
      "source": [
        "#UNSUPERVISED LEARNING -CLUSTERING -  K MEANS CLUSTERING\n",
        "#1. Taking data and creating data frame\n",
        "import pandas as pd\n",
        "df = pd.read_csv('https://raw.githubusercontent.com/ameenmanna8824/DATASETS/main/Social_Network_Ads.csv', encoding = 'latin-1')\n",
        "df"
      ]
    },
    {
      "cell_type": "code",
      "source": [
        "df.shape #400 rows and 5 colummns"
      ],
      "metadata": {
        "colab": {
          "base_uri": "https://localhost:8080/"
        },
        "id": "wHrF67nDaazM",
        "outputId": "2a2cf387-a478-4045-83ba-3c0cac4c46e2"
      },
      "execution_count": 4,
      "outputs": [
        {
          "output_type": "execute_result",
          "data": {
            "text/plain": [
              "(400, 5)"
            ]
          },
          "metadata": {},
          "execution_count": 4
        }
      ]
    },
    {
      "cell_type": "code",
      "source": [
        "#2.divide the into input and output\n",
        "x = df.iloc[:,3:5].values\n",
        "x"
      ],
      "metadata": {
        "colab": {
          "base_uri": "https://localhost:8080/"
        },
        "id": "9d7y95-vahl0",
        "outputId": "e998aac6-5be7-46cf-8c54-62c96474e414"
      },
      "execution_count": 5,
      "outputs": [
        {
          "output_type": "execute_result",
          "data": {
            "text/plain": [
              "array([[ 19000,      0],\n",
              "       [ 20000,      0],\n",
              "       [ 43000,      0],\n",
              "       [ 57000,      0],\n",
              "       [ 76000,      0],\n",
              "       [ 58000,      0],\n",
              "       [ 84000,      0],\n",
              "       [150000,      1],\n",
              "       [ 33000,      0],\n",
              "       [ 65000,      0],\n",
              "       [ 80000,      0],\n",
              "       [ 52000,      0],\n",
              "       [ 86000,      0],\n",
              "       [ 18000,      0],\n",
              "       [ 82000,      0],\n",
              "       [ 80000,      0],\n",
              "       [ 25000,      1],\n",
              "       [ 26000,      1],\n",
              "       [ 28000,      1],\n",
              "       [ 29000,      1],\n",
              "       [ 22000,      1],\n",
              "       [ 49000,      1],\n",
              "       [ 41000,      1],\n",
              "       [ 22000,      1],\n",
              "       [ 23000,      1],\n",
              "       [ 20000,      1],\n",
              "       [ 28000,      1],\n",
              "       [ 30000,      1],\n",
              "       [ 43000,      0],\n",
              "       [ 18000,      0],\n",
              "       [ 74000,      0],\n",
              "       [137000,      1],\n",
              "       [ 16000,      0],\n",
              "       [ 44000,      0],\n",
              "       [ 90000,      0],\n",
              "       [ 27000,      0],\n",
              "       [ 28000,      0],\n",
              "       [ 49000,      0],\n",
              "       [ 72000,      0],\n",
              "       [ 31000,      0],\n",
              "       [ 17000,      0],\n",
              "       [ 51000,      0],\n",
              "       [108000,      0],\n",
              "       [ 15000,      0],\n",
              "       [ 84000,      0],\n",
              "       [ 20000,      0],\n",
              "       [ 79000,      0],\n",
              "       [ 54000,      0],\n",
              "       [135000,      1],\n",
              "       [ 89000,      0],\n",
              "       [ 32000,      0],\n",
              "       [ 44000,      0],\n",
              "       [ 83000,      0],\n",
              "       [ 23000,      0],\n",
              "       [ 58000,      0],\n",
              "       [ 55000,      0],\n",
              "       [ 48000,      0],\n",
              "       [ 79000,      0],\n",
              "       [ 18000,      0],\n",
              "       [117000,      0],\n",
              "       [ 20000,      0],\n",
              "       [ 87000,      0],\n",
              "       [ 66000,      0],\n",
              "       [120000,      1],\n",
              "       [ 83000,      0],\n",
              "       [ 58000,      0],\n",
              "       [ 19000,      0],\n",
              "       [ 82000,      0],\n",
              "       [ 63000,      0],\n",
              "       [ 68000,      0],\n",
              "       [ 80000,      0],\n",
              "       [ 27000,      0],\n",
              "       [ 23000,      0],\n",
              "       [113000,      0],\n",
              "       [ 18000,      0],\n",
              "       [112000,      1],\n",
              "       [ 52000,      0],\n",
              "       [ 27000,      0],\n",
              "       [ 87000,      0],\n",
              "       [ 17000,      0],\n",
              "       [ 80000,      0],\n",
              "       [ 42000,      0],\n",
              "       [ 49000,      0],\n",
              "       [ 88000,      0],\n",
              "       [ 62000,      0],\n",
              "       [118000,      1],\n",
              "       [ 55000,      0],\n",
              "       [ 85000,      0],\n",
              "       [ 81000,      0],\n",
              "       [ 50000,      0],\n",
              "       [ 81000,      0],\n",
              "       [116000,      0],\n",
              "       [ 15000,      0],\n",
              "       [ 28000,      0],\n",
              "       [ 83000,      0],\n",
              "       [ 44000,      0],\n",
              "       [ 25000,      0],\n",
              "       [123000,      1],\n",
              "       [ 73000,      0],\n",
              "       [ 37000,      0],\n",
              "       [ 88000,      0],\n",
              "       [ 59000,      0],\n",
              "       [ 86000,      0],\n",
              "       [149000,      1],\n",
              "       [ 21000,      0],\n",
              "       [ 72000,      0],\n",
              "       [ 35000,      0],\n",
              "       [ 89000,      0],\n",
              "       [ 86000,      0],\n",
              "       [ 80000,      0],\n",
              "       [ 71000,      0],\n",
              "       [ 71000,      0],\n",
              "       [ 61000,      0],\n",
              "       [ 55000,      0],\n",
              "       [ 80000,      0],\n",
              "       [ 57000,      0],\n",
              "       [ 75000,      0],\n",
              "       [ 52000,      0],\n",
              "       [ 59000,      0],\n",
              "       [ 59000,      0],\n",
              "       [ 75000,      0],\n",
              "       [ 72000,      0],\n",
              "       [ 75000,      0],\n",
              "       [ 53000,      0],\n",
              "       [ 51000,      0],\n",
              "       [ 61000,      0],\n",
              "       [ 65000,      0],\n",
              "       [ 32000,      0],\n",
              "       [ 17000,      0],\n",
              "       [ 84000,      0],\n",
              "       [ 58000,      0],\n",
              "       [ 31000,      0],\n",
              "       [ 87000,      0],\n",
              "       [ 68000,      0],\n",
              "       [ 55000,      0],\n",
              "       [ 63000,      0],\n",
              "       [ 82000,      0],\n",
              "       [107000,      1],\n",
              "       [ 59000,      0],\n",
              "       [ 25000,      0],\n",
              "       [ 85000,      0],\n",
              "       [ 68000,      0],\n",
              "       [ 59000,      0],\n",
              "       [ 89000,      0],\n",
              "       [ 25000,      0],\n",
              "       [ 89000,      0],\n",
              "       [ 96000,      1],\n",
              "       [ 30000,      0],\n",
              "       [ 61000,      0],\n",
              "       [ 74000,      0],\n",
              "       [ 15000,      0],\n",
              "       [ 45000,      0],\n",
              "       [ 76000,      0],\n",
              "       [ 50000,      0],\n",
              "       [ 47000,      0],\n",
              "       [ 15000,      0],\n",
              "       [ 59000,      0],\n",
              "       [ 75000,      0],\n",
              "       [ 30000,      0],\n",
              "       [135000,      1],\n",
              "       [100000,      1],\n",
              "       [ 90000,      0],\n",
              "       [ 33000,      0],\n",
              "       [ 38000,      0],\n",
              "       [ 69000,      0],\n",
              "       [ 86000,      0],\n",
              "       [ 55000,      0],\n",
              "       [ 71000,      0],\n",
              "       [148000,      1],\n",
              "       [ 47000,      0],\n",
              "       [ 88000,      0],\n",
              "       [115000,      0],\n",
              "       [118000,      0],\n",
              "       [ 43000,      0],\n",
              "       [ 72000,      0],\n",
              "       [ 28000,      0],\n",
              "       [ 47000,      0],\n",
              "       [ 22000,      0],\n",
              "       [ 23000,      0],\n",
              "       [ 34000,      0],\n",
              "       [ 16000,      0],\n",
              "       [ 71000,      0],\n",
              "       [117000,      1],\n",
              "       [ 43000,      0],\n",
              "       [ 60000,      0],\n",
              "       [ 66000,      0],\n",
              "       [ 82000,      0],\n",
              "       [ 41000,      0],\n",
              "       [ 72000,      0],\n",
              "       [ 32000,      0],\n",
              "       [ 84000,      0],\n",
              "       [ 26000,      0],\n",
              "       [ 43000,      0],\n",
              "       [ 70000,      0],\n",
              "       [ 89000,      0],\n",
              "       [ 43000,      0],\n",
              "       [ 79000,      0],\n",
              "       [ 36000,      0],\n",
              "       [ 80000,      0],\n",
              "       [ 22000,      0],\n",
              "       [ 39000,      0],\n",
              "       [ 74000,      0],\n",
              "       [134000,      1],\n",
              "       [ 71000,      0],\n",
              "       [101000,      1],\n",
              "       [ 47000,      0],\n",
              "       [130000,      1],\n",
              "       [114000,      0],\n",
              "       [142000,      1],\n",
              "       [ 22000,      0],\n",
              "       [ 96000,      1],\n",
              "       [150000,      1],\n",
              "       [ 42000,      0],\n",
              "       [ 58000,      0],\n",
              "       [ 43000,      0],\n",
              "       [108000,      1],\n",
              "       [ 65000,      0],\n",
              "       [ 78000,      0],\n",
              "       [ 96000,      0],\n",
              "       [143000,      1],\n",
              "       [ 80000,      0],\n",
              "       [ 91000,      1],\n",
              "       [144000,      1],\n",
              "       [102000,      1],\n",
              "       [ 60000,      0],\n",
              "       [ 53000,      0],\n",
              "       [126000,      1],\n",
              "       [133000,      1],\n",
              "       [ 72000,      0],\n",
              "       [ 80000,      1],\n",
              "       [147000,      1],\n",
              "       [ 42000,      0],\n",
              "       [107000,      1],\n",
              "       [ 86000,      1],\n",
              "       [112000,      0],\n",
              "       [ 79000,      1],\n",
              "       [ 57000,      0],\n",
              "       [ 80000,      0],\n",
              "       [ 82000,      0],\n",
              "       [143000,      1],\n",
              "       [149000,      1],\n",
              "       [ 59000,      0],\n",
              "       [ 88000,      1],\n",
              "       [104000,      1],\n",
              "       [ 72000,      0],\n",
              "       [146000,      1],\n",
              "       [ 50000,      0],\n",
              "       [122000,      1],\n",
              "       [ 52000,      0],\n",
              "       [ 97000,      1],\n",
              "       [ 39000,      0],\n",
              "       [ 52000,      0],\n",
              "       [134000,      1],\n",
              "       [146000,      1],\n",
              "       [ 44000,      0],\n",
              "       [ 90000,      1],\n",
              "       [ 72000,      0],\n",
              "       [ 57000,      0],\n",
              "       [ 95000,      1],\n",
              "       [131000,      1],\n",
              "       [ 77000,      0],\n",
              "       [144000,      1],\n",
              "       [125000,      1],\n",
              "       [ 72000,      0],\n",
              "       [ 90000,      1],\n",
              "       [108000,      1],\n",
              "       [ 75000,      0],\n",
              "       [ 74000,      0],\n",
              "       [144000,      1],\n",
              "       [ 61000,      0],\n",
              "       [133000,      0],\n",
              "       [ 76000,      1],\n",
              "       [ 42000,      1],\n",
              "       [106000,      1],\n",
              "       [ 26000,      1],\n",
              "       [ 74000,      1],\n",
              "       [ 71000,      0],\n",
              "       [ 88000,      1],\n",
              "       [ 38000,      1],\n",
              "       [ 36000,      1],\n",
              "       [ 88000,      1],\n",
              "       [ 61000,      0],\n",
              "       [ 70000,      1],\n",
              "       [ 21000,      1],\n",
              "       [141000,      0],\n",
              "       [ 93000,      1],\n",
              "       [ 62000,      0],\n",
              "       [138000,      1],\n",
              "       [ 79000,      0],\n",
              "       [ 78000,      1],\n",
              "       [134000,      1],\n",
              "       [ 89000,      1],\n",
              "       [ 39000,      1],\n",
              "       [ 77000,      0],\n",
              "       [ 57000,      0],\n",
              "       [ 63000,      0],\n",
              "       [ 73000,      1],\n",
              "       [112000,      1],\n",
              "       [ 79000,      0],\n",
              "       [117000,      1],\n",
              "       [ 38000,      1],\n",
              "       [ 74000,      1],\n",
              "       [137000,      1],\n",
              "       [ 79000,      1],\n",
              "       [ 60000,      0],\n",
              "       [ 54000,      0],\n",
              "       [134000,      0],\n",
              "       [113000,      1],\n",
              "       [125000,      1],\n",
              "       [ 50000,      0],\n",
              "       [ 70000,      0],\n",
              "       [ 96000,      1],\n",
              "       [ 50000,      0],\n",
              "       [141000,      1],\n",
              "       [ 79000,      0],\n",
              "       [ 75000,      1],\n",
              "       [104000,      1],\n",
              "       [ 55000,      0],\n",
              "       [ 32000,      1],\n",
              "       [ 60000,      0],\n",
              "       [138000,      1],\n",
              "       [ 82000,      1],\n",
              "       [ 52000,      0],\n",
              "       [ 30000,      1],\n",
              "       [131000,      1],\n",
              "       [ 60000,      0],\n",
              "       [ 72000,      0],\n",
              "       [ 75000,      0],\n",
              "       [118000,      1],\n",
              "       [107000,      1],\n",
              "       [ 51000,      0],\n",
              "       [119000,      1],\n",
              "       [ 65000,      0],\n",
              "       [ 65000,      0],\n",
              "       [ 60000,      1],\n",
              "       [ 54000,      0],\n",
              "       [144000,      1],\n",
              "       [ 79000,      0],\n",
              "       [ 55000,      0],\n",
              "       [122000,      1],\n",
              "       [104000,      1],\n",
              "       [ 75000,      0],\n",
              "       [ 65000,      0],\n",
              "       [ 51000,      1],\n",
              "       [105000,      1],\n",
              "       [ 63000,      0],\n",
              "       [ 72000,      1],\n",
              "       [108000,      1],\n",
              "       [ 77000,      0],\n",
              "       [ 61000,      0],\n",
              "       [113000,      1],\n",
              "       [ 75000,      0],\n",
              "       [ 90000,      1],\n",
              "       [ 57000,      0],\n",
              "       [ 99000,      1],\n",
              "       [ 34000,      1],\n",
              "       [ 70000,      1],\n",
              "       [ 72000,      0],\n",
              "       [ 71000,      1],\n",
              "       [ 54000,      0],\n",
              "       [129000,      1],\n",
              "       [ 34000,      1],\n",
              "       [ 50000,      1],\n",
              "       [ 79000,      0],\n",
              "       [104000,      1],\n",
              "       [ 29000,      1],\n",
              "       [ 47000,      1],\n",
              "       [ 88000,      1],\n",
              "       [ 71000,      0],\n",
              "       [ 26000,      1],\n",
              "       [ 46000,      1],\n",
              "       [ 83000,      1],\n",
              "       [ 73000,      0],\n",
              "       [130000,      1],\n",
              "       [ 80000,      0],\n",
              "       [ 32000,      1],\n",
              "       [ 74000,      0],\n",
              "       [ 53000,      0],\n",
              "       [ 87000,      1],\n",
              "       [ 23000,      1],\n",
              "       [ 64000,      0],\n",
              "       [ 33000,      1],\n",
              "       [139000,      1],\n",
              "       [ 28000,      1],\n",
              "       [ 33000,      1],\n",
              "       [ 60000,      1],\n",
              "       [ 39000,      1],\n",
              "       [ 71000,      0],\n",
              "       [ 34000,      1],\n",
              "       [ 35000,      1],\n",
              "       [ 33000,      1],\n",
              "       [ 23000,      1],\n",
              "       [ 45000,      1],\n",
              "       [ 42000,      1],\n",
              "       [ 59000,      0],\n",
              "       [ 41000,      1],\n",
              "       [ 23000,      1],\n",
              "       [ 20000,      1],\n",
              "       [ 33000,      0],\n",
              "       [ 36000,      1]])"
            ]
          },
          "metadata": {},
          "execution_count": 5
        }
      ]
    },
    {
      "cell_type": "code",
      "source": [
        "#3.VISUALISATION\n",
        "import matplotlib.pyplot as plt\n",
        "plt.scatter(df['Age'],df['EstimatedSalary'])\n",
        "#Here we have got only one cluster before applying any clustering technique"
      ],
      "metadata": {
        "colab": {
          "base_uri": "https://localhost:8080/",
          "height": 283
        },
        "id": "Gmtp2_VMatCg",
        "outputId": "21b28c88-650d-4c62-adbc-cb25dfa48bd9"
      },
      "execution_count": 6,
      "outputs": [
        {
          "output_type": "execute_result",
          "data": {
            "text/plain": [
              "<matplotlib.collections.PathCollection at 0x7fe43cab2c50>"
            ]
          },
          "metadata": {},
          "execution_count": 6
        },
        {
          "output_type": "display_data",
          "data": {
            "text/plain": [
              "<Figure size 432x288 with 1 Axes>"
            ],
            "image/png": "[encoded data removed]"
          },
          "metadata": {
            "needs_background": "light"
          }
        }
      ]
    },
    {
      "cell_type": "code",
      "source": [
        "#4.Finding out the number of clusters(k)\n",
        "import numpy as np\n",
        "np.sqrt(80) # 80 is the total no of points\n",
        "#No of cluster - k\n",
        "#k value should not exceed the square root of the total no of points\n",
        "#Hence k value should be in the range of 2 to 14"
      ],
      "metadata": {
        "colab": {
          "base_uri": "https://localhost:8080/"
        },
        "id": "DqtE0pdHbLDQ",
        "outputId": "d3c727c0-3da3-41c8-926b-b8fd304e230f"
      },
      "execution_count": 7,
      "outputs": [
        {
          "output_type": "execute_result",
          "data": {
            "text/plain": [
              "8.94427190999916"
            ]
          },
          "metadata": {},
          "execution_count": 7
        }
      ]
    },
    {
      "cell_type": "code",
      "source": [
        "#5.ELBOW METHOD\n",
        "from sklearn.cluster import KMeans\n",
        "k = range(2,15)# my range is in between 2 and 14\n",
        "\n",
        "sse = [] #blank list\n",
        "\n",
        "#for i in range(2,15):\n",
        "for i in k :\n",
        "  model_demo = KMeans(n_clusters = i,random_state = 0)\n",
        "  model_demo.fit(x)\n",
        "  sse.append(model_demo.inertia_)#.inertia_ - calculates the sum of squared error\n",
        "plt.scatter(k,sse)\n",
        "plt.plot(k,sse)"
      ],
      "metadata": {
        "colab": {
          "base_uri": "https://localhost:8080/",
          "height": 294
        },
        "id": "gh262NDPblBH",
        "outputId": "adc4dea4-e785-4aac-a38b-d530aafe0ab0"
      },
      "execution_count": 8,
      "outputs": [
        {
          "output_type": "execute_result",
          "data": {
            "text/plain": [
              "[<matplotlib.lines.Line2D at 0x7fe4362a78d0>]"
            ]
          },
          "metadata": {},
          "execution_count": 8
        },
        {
          "output_type": "display_data",
          "data": {
            "text/plain": [
              "<Figure size 432x288 with 1 Axes>"
            ],
            "image/png": "[encoded data removed]"
          },
          "metadata": {
            "needs_background": "light"
          }
        }
      ]
    },
    {
      "cell_type": "code",
      "source": [
        "#6.SILHOUETTE SCORE METHOD\n",
        "from sklearn.metrics import silhouette_score\n",
        "k = range(2,15)\n",
        "for i in k:\n",
        "  model_demo = KMeans(n_clusters = i,random_state = 0)\n",
        "  model_demo.fit(x)\n",
        "  y_pred = model_demo.predict(x)\n",
        "  print(f\"{i} Clusters ,Score = {silhouette_score(x,y_pred)}\")\n",
        "  plt.bar(i,silhouette_score(x,y_pred))"
      ],
      "metadata": {
        "colab": {
          "base_uri": "https://localhost:8080/",
          "height": 500
        },
        "id": "l2l4IYg0byi4",
        "outputId": "39d7e091-de01-40cc-e4ec-197a61e39912"
      },
      "execution_count": 9,
      "outputs": [
        {
          "output_type": "stream",
          "name": "stdout",
          "text": [
            "2 Clusters ,Score = 0.537477824964991\n",
            "3 Clusters ,Score = 0.6015031263266077\n",
            "4 Clusters ,Score = 0.6066146767843497\n",
            "5 Clusters ,Score = 0.610223988128696\n",
            "6 Clusters ,Score = 0.5846075186044158\n",
            "7 Clusters ,Score = 0.5771757527583528\n",
            "8 Clusters ,Score = 0.5734148086437275\n",
            "9 Clusters ,Score = 0.567938363430772\n",
            "10 Clusters ,Score = 0.5707280151556086\n",
            "11 Clusters ,Score = 0.5745161226163872\n",
            "12 Clusters ,Score = 0.5899406839951461\n",
            "13 Clusters ,Score = 0.5856208761624656\n",
            "14 Clusters ,Score = 0.5815430121040257\n"
          ]
        },
        {
          "output_type": "display_data",
          "data": {
            "text/plain": [
              "<Figure size 432x288 with 1 Axes>"
            ],
            "image/png": "[encoded data removed]"
          },
          "metadata": {
            "needs_background": "light"
          }
        }
      ]
    },
    {
      "cell_type": "code",
      "source": [
        "#7.APPLYING CLUSTERER\n",
        "k = 5\n",
        "from sklearn.cluster import KMeans\n",
        "\n",
        "model = KMeans(n_clusters = k,random_state = 0)\n",
        "model.fit(x)"
      ],
      "metadata": {
        "colab": {
          "base_uri": "https://localhost:8080/"
        },
        "id": "vYizHOuJb-4v",
        "outputId": "28582dfe-4a18-4eab-9fd8-db40a2ec0fe7"
      },
      "execution_count": 10,
      "outputs": [
        {
          "output_type": "execute_result",
          "data": {
            "text/plain": [
              "KMeans(n_clusters=5, random_state=0)"
            ]
          },
          "metadata": {},
          "execution_count": 10
        }
      ]
    },
    {
      "cell_type": "code",
      "source": [
        "#8.Predicting output\n",
        "y = model.predict(x) # predicted output\n",
        "y"
      ],
      "metadata": {
        "colab": {
          "base_uri": "https://localhost:8080/"
        },
        "id": "edp4UJtrcEV4",
        "outputId": "4a98c401-9425-43ef-da07-f99cca225449"
      },
      "execution_count": 11,
      "outputs": [
        {
          "output_type": "execute_result",
          "data": {
            "text/plain": [
              "array([2, 2, 1, 1, 3, 1, 3, 4, 2, 1, 3, 1, 3, 2, 3, 3, 2, 2, 2, 2, 2, 1,\n",
              "       1, 2, 2, 2, 2, 2, 1, 2, 3, 4, 2, 1, 3, 2, 2, 1, 3, 2, 2, 1, 0, 2,\n",
              "       3, 2, 3, 1, 4, 3, 2, 1, 3, 2, 1, 1, 1, 3, 2, 0, 2, 3, 1, 0, 3, 1,\n",
              "       2, 3, 1, 3, 3, 2, 2, 0, 2, 0, 1, 2, 3, 2, 3, 1, 1, 3, 1, 0, 1, 3,\n",
              "       3, 1, 3, 0, 2, 2, 3, 1, 2, 0, 3, 2, 3, 1, 3, 4, 2, 3, 2, 3, 3, 3,\n",
              "       3, 3, 1, 1, 3, 1, 3, 1, 1, 1, 3, 3, 3, 1, 1, 1, 1, 2, 2, 3, 1, 2,\n",
              "       3, 3, 1, 1, 3, 0, 1, 2, 3, 3, 1, 3, 2, 3, 0, 2, 1, 3, 2, 1, 3, 1,\n",
              "       1, 2, 1, 3, 2, 4, 0, 3, 2, 2, 3, 3, 1, 3, 4, 1, 3, 0, 0, 1, 3, 2,\n",
              "       1, 2, 2, 2, 2, 3, 0, 1, 1, 1, 3, 1, 3, 2, 3, 2, 1, 3, 3, 1, 3, 2,\n",
              "       3, 2, 2, 3, 4, 3, 0, 1, 4, 0, 4, 2, 0, 4, 1, 1, 1, 0, 1, 3, 0, 4,\n",
              "       3, 3, 4, 0, 1, 1, 4, 4, 3, 3, 4, 1, 0, 3, 0, 3, 1, 3, 3, 4, 4, 1,\n",
              "       3, 0, 3, 4, 1, 0, 1, 0, 2, 1, 4, 4, 1, 3, 3, 1, 0, 4, 3, 4, 4, 3,\n",
              "       3, 0, 3, 3, 4, 1, 4, 3, 1, 0, 2, 3, 3, 3, 2, 2, 3, 1, 3, 2, 4, 3,\n",
              "       1, 4, 3, 3, 4, 3, 2, 3, 1, 1, 3, 0, 3, 0, 2, 3, 4, 3, 1, 1, 4, 0,\n",
              "       4, 1, 3, 0, 1, 4, 3, 3, 0, 1, 2, 1, 4, 3, 1, 2, 4, 1, 3, 3, 0, 0,\n",
              "       1, 0, 1, 1, 1, 1, 4, 3, 1, 0, 0, 3, 1, 1, 0, 1, 3, 0, 3, 1, 0, 3,\n",
              "       3, 1, 0, 2, 3, 3, 3, 1, 4, 2, 1, 3, 0, 2, 1, 3, 3, 2, 1, 3, 3, 4,\n",
              "       3, 2, 3, 1, 3, 2, 1, 2, 4, 2, 2, 1, 2, 3, 2, 2, 2, 2, 1, 1, 1, 1,\n",
              "       2, 2, 2, 2], dtype=int32)"
            ]
          },
          "metadata": {},
          "execution_count": 11
        }
      ]
    },
    {
      "cell_type": "code",
      "source": [
        "#9.Finding size of y\n",
        "y.size"
      ],
      "metadata": {
        "colab": {
          "base_uri": "https://localhost:8080/"
        },
        "id": "j6tG7VCRcOi5",
        "outputId": "79387498-13ca-412b-d178-a9f4a3a23ff4"
      },
      "execution_count": 12,
      "outputs": [
        {
          "output_type": "execute_result",
          "data": {
            "text/plain": [
              "400"
            ]
          },
          "metadata": {},
          "execution_count": 12
        }
      ]
    },
    {
      "cell_type": "code",
      "source": [
        "#10.Selecting no. of rows and columns\n",
        "x[y == 1,1]\n",
        "#so the first '1' is cluster no 1 and the second '1' is column index 1 \n",
        "#the value of input,when cluster 1 is selected and column index 1 selected"
      ],
      "metadata": {
        "colab": {
          "base_uri": "https://localhost:8080/"
        },
        "id": "3pqOXV2jcw2Q",
        "outputId": "4eeb6b46-1351-4c30-8532-12a48e858042"
      },
      "execution_count": 13,
      "outputs": [
        {
          "output_type": "execute_result",
          "data": {
            "text/plain": [
              "array([0, 0, 0, 0, 0, 1, 1, 0, 0, 0, 0, 0, 0, 0, 0, 0, 0, 0, 0, 0, 0, 0,\n",
              "       0, 0, 0, 0, 0, 0, 0, 0, 0, 0, 0, 0, 0, 0, 0, 0, 0, 0, 0, 0, 0, 0,\n",
              "       0, 0, 0, 0, 0, 0, 0, 0, 0, 0, 0, 0, 0, 0, 0, 0, 0, 0, 0, 0, 0, 0,\n",
              "       0, 0, 0, 0, 0, 0, 0, 1, 0, 0, 0, 0, 0, 0, 0, 0, 0, 0, 0, 0, 0, 0,\n",
              "       0, 1, 0, 0, 0, 1, 0, 0, 0, 0, 1, 1, 1, 0, 0, 1, 1, 1, 0, 1])"
            ]
          },
          "metadata": {},
          "execution_count": 13
        }
      ]
    },
    {
      "cell_type": "code",
      "source": [
        "#12.Selecting the unique elements in the rows and columns\n",
        "np.unique(y,return_counts = True)"
      ],
      "metadata": {
        "colab": {
          "base_uri": "https://localhost:8080/"
        },
        "id": "V9nf1iQ6c6bQ",
        "outputId": "dbea665f-9786-4b1f-e88b-b1a5ae24a39f"
      },
      "execution_count": 14,
      "outputs": [
        {
          "output_type": "execute_result",
          "data": {
            "text/plain": [
              "(array([0, 1, 2, 3, 4], dtype=int32), array([ 43, 108,  87, 124,  38]))"
            ]
          },
          "metadata": {},
          "execution_count": 14
        }
      ]
    },
    {
      "cell_type": "code",
      "source": [
        "#13.FINAL VISUALISATION\n",
        "plt.figure(figsize = (10,5))\n",
        "for i in range(k):\n",
        "  plt.scatter(x[y == i,0],x[y == i,1],label = f'Cluster {i}')\n",
        "plt.scatter(model.cluster_centers_[:,0],model.cluster_centers_[:,1],s = 300,c = 'yellow',\n",
        "            label = 'Centroids')\n",
        "plt.legend()"
      ],
      "metadata": {
        "colab": {
          "base_uri": "https://localhost:8080/",
          "height": 338
        },
        "id": "6b1emW3deWtj",
        "outputId": "e3e341b0-df12-4826-b2bf-a1ae7e9f2488"
      },
      "execution_count": 15,
      "outputs": [
        {
          "output_type": "execute_result",
          "data": {
            "text/plain": [
              "<matplotlib.legend.Legend at 0x7fe430d39a10>"
            ]
          },
          "metadata": {},
          "execution_count": 15
        },
        {
          "output_type": "display_data",
          "data": {
            "text/plain": [
              "<Figure size 720x360 with 1 Axes>"
            ],
            "image/png": "[encoded data removed]"
          },
          "metadata": {
            "needs_background": "light"
          }
        }
      ]
    }
  ]
}